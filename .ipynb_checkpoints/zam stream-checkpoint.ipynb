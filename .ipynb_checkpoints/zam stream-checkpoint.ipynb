{
 "cells": [
  {
   "cell_type": "code",
   "execution_count": 1,
   "metadata": {},
   "outputs": [
    {
     "name": "stdout",
     "output_type": "stream",
     "text": [
      "Overwriting Zapp.py\n"
     ]
    }
   ],
   "source": [
    "%%writefile app.py\n",
    "import streamlit as st\n",
    "import pandas as pd\n",
    "import numpy as np\n",
    "import joblib\n",
    "import sklearn\n",
    "\n",
    "st.header(\"Zomato classification Project\")\n",
    "st.image(\"Restaurant.png\")  \n",
    "inputs= joblib.load(\"input.h5\")\n",
    "Model = joblib.load(\"rf.h5\")\n",
    "# defining the function which will make the prediction using the data which the user inputs \n",
    "def prediction(online_order, book_table, votes, rest_type,cuisines,cost):\n",
    "    \n",
    "    if online_order == 'True': \n",
    "        online_order = 1\n",
    "    else:\n",
    "        online_order = 0\n",
    "        \n",
    "    if book_table == 'True': \n",
    "        book_table = 1\n",
    "    else:\n",
    "        book_table = 0\n",
    "        \n",
    "    if cuisines == 'Chines': \n",
    "         cuisines = 0\n",
    "    elif cuisines == 'fastfood':\n",
    "        cuisines = 1\n",
    "    elif cuisines == 'Thai':\n",
    "         cuisines = 2\n",
    "    elif cuisines == 'Italian':\n",
    "        cuisines = 3\n",
    "    elif cuisines == 'Indian':\n",
    "        cuisines = 4\n",
    "    elif cuisines == 'Desserts':\n",
    "        cuisines = 5\n",
    "    else  :      \n",
    "        cuisines = 6\n",
    "        \n",
    "    if rest_type == 'Takeaway': \n",
    "        rest_type = 0\n",
    "    elif rest_type == 'Desserts':\n",
    "        rest_type = 1\n",
    "    elif rest_type == 'Delivery':\n",
    "        rest_type = 2\n",
    "    elif rest_type == 'Casual Dining':\n",
    "        rest_type = 3\n",
    "    elif rest_type == 'Cafe':\n",
    "        rest_type = 4\n",
    "    else:\n",
    "        rest_type = 5\n",
    " \n",
    "    # Making predictions \n",
    "    prediction = Model.predict( \n",
    "        [[online_order, book_table, votes, rest_type, cuisines,cost]])\n",
    "     \n",
    "    if prediction == 0:\n",
    "        pred = 'UnderRated'\n",
    "    else:\n",
    "        pred = 'OverRated'\n",
    "    return pred\n",
    "      \n",
    "  \n",
    "# this is the main function in which we define our webpage  \n",
    "def main():       \n",
    "    # front end elements of the web page \n",
    "    html_temp = \"\"\" \n",
    "    <div style =\"background-color:gray;padding:13px\"> \n",
    "    <h1 style =\"color:black;text-align:center;\">Zomato Prediction Rate ML App</h1> \n",
    "    </div> \n",
    "    \"\"\"\n",
    "      \n",
    "    # display the front end aspect\n",
    "    st.markdown(html_temp, unsafe_allow_html = True) \n",
    "      \n",
    "    # following lines create boxes in which user can enter data required to make prediction \n",
    "    online_order = st.selectbox('online_order',(\"True\",\"False\"))\n",
    "    book_table = st.selectbox('book_table',(\"True\",\"False\")) \n",
    "    votes = st.slider(\"votes\" , min_value=0, max_value=16880, value=25, step=100)\n",
    "    rest_type = st.selectbox(\"rest_type\",('Takeaway', 'Desserts', 'Delivery','Casual Dining','Cafe','Others'))\n",
    "    cuisines = st.selectbox(\"cuisines\",('Chines', 'fastfood', 'Thai','Italian','Indian','Desserts','other'))\n",
    "    cost = st.slider(\"cost\" , min_value=0, max_value=6000, value=100, step=200)\n",
    "    result =\"\"\n",
    "      \n",
    "    # when 'Predict' is clicked, make the prediction and store it \n",
    "    if st.button(\"Predict\"): \n",
    "        result = prediction(online_order, book_table, votes, rest_type, cuisines,cost) \n",
    "        st.success('The Zomato Rate is {}'.format(result))     \n",
    "if __name__=='__main__': \n",
    "    main()\n",
    "\n"
   ]
  },
  {
   "cell_type": "code",
   "execution_count": null,
   "metadata": {},
   "outputs": [],
   "source": [
    "!streamlit run app.py\n"
   ]
  },
  {
   "cell_type": "code",
   "execution_count": null,
   "metadata": {},
   "outputs": [],
   "source": []
  },
  {
   "cell_type": "code",
   "execution_count": null,
   "metadata": {},
   "outputs": [],
   "source": []
  }
 ],
 "metadata": {
  "kernelspec": {
   "display_name": "Python 3",
   "language": "python",
   "name": "python3"
  },
  "language_info": {
   "codemirror_mode": {
    "name": "ipython",
    "version": 3
   },
   "file_extension": ".py",
   "mimetype": "text/x-python",
   "name": "python",
   "nbconvert_exporter": "python",
   "pygments_lexer": "ipython3",
   "version": "3.7.13"
  }
 },
 "nbformat": 4,
 "nbformat_minor": 4
}
