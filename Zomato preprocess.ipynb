{
 "cells": [
  {
   "cell_type": "code",
   "execution_count": 29,
   "metadata": {},
   "outputs": [],
   "source": [
    "def get_cuisines(cuisines):\n",
    "    if cuisines == 'Chines': \n",
    "        return [0]\n",
    "    elif cuisines == 'fastfood':\n",
    "        return [1]\n",
    "    elif cuisines == 'Thai':\n",
    "        return [2]\n",
    "    elif cuisines == 'Italian':\n",
    "        return [3]\n",
    "    elif cuisines == 'Indian':\n",
    "        return [4]\n",
    "    elif cuisines == 'Desserts':\n",
    "        return [5]\n",
    "    elif cuisines == 'other':\n",
    "        return [6]\n",
    "    else :\n",
    "        return ['Enter suitable cuisines value']"
   ]
  },
  {
   "cell_type": "code",
   "execution_count": 39,
   "metadata": {},
   "outputs": [],
   "source": [
    "def get_rest_type(rest_type):\n",
    "    if rest_type == 'Takeaway': \n",
    "        return [0]\n",
    "    elif rest_type == 'Desserts':\n",
    "        return [1]\n",
    "    elif rest_type == 'Delivery':\n",
    "        return [2]\n",
    "    elif rest_type == 'Casual Dining':\n",
    "        return [3]\n",
    "    elif rest_type == 'Cafe':\n",
    "        return [4]\n",
    "    elif rest_type == 'Others':\n",
    "        return [5]\n",
    "    else :\n",
    "        return ['Enter suitable rest_type value']"
   ]
  },
  {
   "cell_type": "code",
   "execution_count": 40,
   "metadata": {},
   "outputs": [],
   "source": [
    "def get_online_order(online_order):\n",
    "    if online_order == 'False': \n",
    "        return [0]\n",
    "    elif online_order == 'True':\n",
    "        return [1]\n",
    "    else:\n",
    "        return ['Enter suitable online_order value']  \n"
   ]
  },
  {
   "cell_type": "code",
   "execution_count": 41,
   "metadata": {},
   "outputs": [],
   "source": [
    "def get_book_table(book_table) :\n",
    "    if book_table == 'False' : \n",
    "        return [0]\n",
    "    elif book_table == 'True' :\n",
    "        return [1]\n",
    "    else:\n",
    "        return ['Enter suitable book_table value']  \n"
   ]
  },
  {
   "cell_type": "code",
   "execution_count": 42,
   "metadata": {},
   "outputs": [],
   "source": [
    "def preprocess_data(data) :\n",
    "    \n",
    "    online_order = get_online_order(data['online_order'])\n",
    "\n",
    "    book_table = get_book_table(data['book_table'])\n",
    "\n",
    "    rest_type = get_rest_type(data['rest_type'])\n",
    "\n",
    "    cuisines= get_cuisines(data['cuisines'])\n",
    "\n",
    "    final_data= online_order+book_table+rest_type+cuisines\n",
    "    return final_data\n",
    "    "
   ]
  },
  {
   "cell_type": "code",
   "execution_count": 43,
   "metadata": {},
   "outputs": [],
   "source": [
    "data={'online_order' : 'True','book_table' : 'False','rest_type' : 'Delivery','cuisines' : 'Indian'}"
   ]
  },
  {
   "cell_type": "code",
   "execution_count": 44,
   "metadata": {},
   "outputs": [
    {
     "data": {
      "text/plain": [
       "[1, 0, 2, 4]"
      ]
     },
     "execution_count": 44,
     "metadata": {},
     "output_type": "execute_result"
    }
   ],
   "source": [
    "final_data= preprocess_data(data)\n",
    "final_data"
   ]
  },
  {
   "cell_type": "code",
   "execution_count": null,
   "metadata": {},
   "outputs": [],
   "source": []
  },
  {
   "cell_type": "code",
   "execution_count": null,
   "metadata": {},
   "outputs": [],
   "source": []
  },
  {
   "cell_type": "code",
   "execution_count": null,
   "metadata": {},
   "outputs": [],
   "source": []
  }
 ],
 "metadata": {
  "kernelspec": {
   "display_name": "Python 3",
   "language": "python",
   "name": "python3"
  },
  "language_info": {
   "codemirror_mode": {
    "name": "ipython",
    "version": 3
   },
   "file_extension": ".py",
   "mimetype": "text/x-python",
   "name": "python",
   "nbconvert_exporter": "python",
   "pygments_lexer": "ipython3",
   "version": "3.7.13"
  }
 },
 "nbformat": 4,
 "nbformat_minor": 4
}
